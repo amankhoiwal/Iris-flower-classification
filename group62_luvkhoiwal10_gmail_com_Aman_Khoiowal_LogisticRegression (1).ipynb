{
  "nbformat": 4,
  "nbformat_minor": 0,
  "metadata": {
    "colab": {
      "name": "group62_luvkhoiwal10@gmail.com_Aman_Khoiowal_LogisticRegression.ipynb",
      "provenance": [],
      "collapsed_sections": []
    },
    "kernelspec": {
      "display_name": "Python 3",
      "language": "python",
      "name": "python3"
    },
    "language_info": {
      "codemirror_mode": {
        "name": "ipython",
        "version": 3
      },
      "file_extension": ".py",
      "mimetype": "text/x-python",
      "name": "python",
      "nbconvert_exporter": "python",
      "pygments_lexer": "ipython3",
      "version": "3.9.4"
    }
  },
  "cells": [
    {
      "cell_type": "markdown",
      "metadata": {
        "id": "cB-uAPFjwTac"
      },
      "source": [
        "# ***` Logistic Regression `***\n",
        "\n",
        "***` Import the Iris data which discusses about three species of flowers namely \"Setosa\",\"Verisicolor\" and \"Virginica\" Your task is to build a logistic regression model to distinguish between two  of these speicies using features like \"Sepal Length\", \"Sepal Width\", \"Petal Length\" and \"Petal Width\"`***\n",
        "\n",
        "`1)Write a sigmoid function and visualize the sigmoid function,by considering x in the range of (-10,10).`\n",
        "\n",
        "`2)Plot impact of logloss for single forecasts (You can import log_loss from sklearn.metrics). Make predictions as 0 to 1 in 0.01 increments. (For example,yhat = [x*0.01 for x in range(0, 101)]).Evaluate predictions for a 0 true value.Plot a graph between y_hat and log_loss`\n",
        "\n",
        "`3)Find the difference between minimum log loss for label 0 and label 1 [1.5 marks]`\n",
        "\n",
        "`3)Import the Iris Data, and visualize the data to an idea about it.`\n",
        "\n",
        "`4)Convert the char labels to numerical as logistic regression takes only 0's and 1's and then create new array of numerical labels.After following the procedure as mentioned in the comments , find the difference between means of sepal length of speices \"Setosa\"(label 0) and \"Versicolor\"(label 1).[1 marks]`\n",
        "\n",
        "`5)Split the data in X,y and convert them into arrays`\n",
        "\n",
        "`6)Use sklearn to split the data (**Important** Consider random_state=42 and test_size=0.2)and perform Logistic Regression`\n",
        "\n",
        "`7)Find the weights and bias and save it in a list[5 marks]`\n",
        "\n",
        "`8)Make a prediction on the test data.Find the accuracy of the prediction.[1 marks]`\n",
        "\n",
        "`9)Also predict the species of the flower whose sepal length=4.9cm\tsepal width=4cm\tpetal length=1.2cm\tpetal width=0.4cm and return the Species of the data.[1.5 marks]`\n"
      ]
    },
    {
      "cell_type": "code",
      "metadata": {
        "id": "mm-qMhGZ4fA4"
      },
      "source": [
        "# Run this cell\n",
        "# import important libraries library\n",
        "import numpy as np\n",
        "import pandas as pd\n",
        "from sklearn import datasets\n",
        "from sklearn import model_selection\n",
        "from sklearn import metrics\n",
        "import matplotlib.pyplot as plt\n",
        "import seaborn as sns\n",
        "import json\n",
        "%matplotlib inline\n",
        "ans = [0]*5"
      ],
      "execution_count": 1,
      "outputs": []
    },
    {
      "cell_type": "markdown",
      "metadata": {
        "id": "JXXUExSDCjnl"
      },
      "source": [
        "# ***`Importing and Visualizing Data`***\n",
        "\n"
      ]
    },
    {
      "cell_type": "code",
      "metadata": {
        "id": "FfmHr1_3463o"
      },
      "source": [
        "#Sigmoid Function\n",
        "\n",
        "def sigmoid(x):\n",
        "    return 1/(1 + np.exp(-x));"
      ],
      "execution_count": 2,
      "outputs": []
    },
    {
      "cell_type": "code",
      "metadata": {
        "colab": {
          "base_uri": "https://localhost:8080/",
          "height": 279
        },
        "id": "TJ7YufS579-a",
        "outputId": "f27cdb14-3efd-415b-b33d-26a49001bc31"
      },
      "source": [
        "#Visualize sigmoid function\n",
        "#Create an array of x_val with values between -10 and 10 \n",
        "\n",
        "x_val = np.linspace(-10,10,100); #100 points between -10 & 10\n",
        "\n",
        "#Find y_val, by using sigmoid function\n",
        "\n",
        "y_val = sigmoid(x_val);\n",
        "\n",
        "#Plot x_val,y_val and label the graph\n",
        "\n",
        "plt.plot(x_val,y_val);\n",
        "plt.xlabel(\"x\");\n",
        "plt.ylabel(\"Sigmoid(x)\");"
      ],
      "execution_count": 3,
      "outputs": [
        {
          "output_type": "display_data",
          "data": {
            "image/png": "[encoded data removed]",
            "text/plain": [
              "<Figure size 432x288 with 1 Axes>"
            ]
          },
          "metadata": {
            "needs_background": "light"
          }
        }
      ]
    },
    {
      "cell_type": "code",
      "metadata": {
        "colab": {
          "base_uri": "https://localhost:8080/",
          "height": 265
        },
        "id": "Ud5MNVfP5aay",
        "outputId": "fe24639e-c5e7-409d-f018-2adec3b91850"
      },
      "source": [
        "# Plot impact of logloss for single forecasts\n",
        "from sklearn.metrics import log_loss\n",
        "\n",
        "# predictions as 0 to 1 in 0.01 increments\n",
        "\n",
        "yhat = [i*0.01 for i in range(0, 101)];\n",
        "\n",
        "# evaluate predictions for a 0 true value\n",
        "\n",
        "loss_zero= [log_loss([0], [x], labels=[0,1]) for x in yhat]\n",
        "\n",
        "# evaluate predictions for a 1 true value\n",
        "\n",
        "loss_one= [log_loss([1], [x], labels=[0,1]) for x in yhat]\n",
        "\n",
        "# plot input to loss\n",
        "\n",
        "plt.plot(yhat, loss_zero, label=\"true value: 0\");\n",
        "plt.plot(yhat, loss_one, label=\"true value: 1\");\n",
        "plt.legend();\n",
        "plt.show();"
      ],
      "execution_count": 4,
      "outputs": [
        {
          "output_type": "display_data",
          "data": {
            "image/png": "[encoded data removed]",
            "text/plain": [
              "<Figure size 432x288 with 1 Axes>"
            ]
          },
          "metadata": {
            "needs_background": "light"
          }
        }
      ]
    },
    {
      "cell_type": "code",
      "metadata": {
        "colab": {
          "base_uri": "https://localhost:8080/"
        },
        "id": "sru3xE4T5m4S",
        "outputId": "2198c51b-2650-4242-e8bd-0051a5006207"
      },
      "source": [
        "#Find the difference between minimum log loss for label 0 and label 1 \n",
        "ans[0]= abs(min(loss_zero)-min(loss_one))\n",
        "print(ans[0]);"
      ],
      "execution_count": 5,
      "outputs": [
        {
          "output_type": "stream",
          "name": "stdout",
          "text": [
            "0.0\n"
          ]
        }
      ]
    },
    {
      "cell_type": "markdown",
      "metadata": {
        "id": "9MVaovvQDbkI"
      },
      "source": [
        "# ***`Processing the Data`***"
      ]
    },
    {
      "cell_type": "code",
      "metadata": {
        "id": "2Y-Rs5FsyvwO"
      },
      "source": [
        "#Import the dataset of iris from datasets.load_iris()\n",
        "iris=datasets.load_iris()\n",
        "data1 = pd.DataFrame(data= np.c_[iris['data'], iris['target']],columns= iris['feature_names'] + ['target'])\n",
        "data1['species'] = pd.Categorical.from_codes(iris.target, iris.target_names)"
      ],
      "execution_count": 6,
      "outputs": []
    },
    {
      "cell_type": "code",
      "metadata": {
        "colab": {
          "base_uri": "https://localhost:8080/",
          "height": 203
        },
        "id": "5eAYcnHNy2y_",
        "outputId": "53ce31e7-ad33-4af9-9984-df84e1800dcc"
      },
      "source": [
        "#Look into the top 5 rows of data\n",
        "\n",
        "data1.head()"
      ],
      "execution_count": 7,
      "outputs": [
        {
          "output_type": "execute_result",
          "data": {
            "text/html": [
              "<div>\n",
              "<style scoped>\n",
              "    .dataframe tbody tr th:only-of-type {\n",
              "        vertical-align: middle;\n",
              "    }\n",
              "\n",
              "    .dataframe tbody tr th {\n",
              "        vertical-align: top;\n",
              "    }\n",
              "\n",
              "    .dataframe thead th {\n",
              "        text-align: right;\n",
              "    }\n",
              "</style>\n",
              "<table border=\"1\" class=\"dataframe\">\n",
              "  <thead>\n",
              "    <tr style=\"text-align: right;\">\n",
              "      <th></th>\n",
              "      <th>sepal length (cm)</th>\n",
              "      <th>sepal width (cm)</th>\n",
              "      <th>petal length (cm)</th>\n",
              "      <th>petal width (cm)</th>\n",
              "      <th>target</th>\n",
              "      <th>species</th>\n",
              "    </tr>\n",
              "  </thead>\n",
              "  <tbody>\n",
              "    <tr>\n",
              "      <th>0</th>\n",
              "      <td>5.1</td>\n",
              "      <td>3.5</td>\n",
              "      <td>1.4</td>\n",
              "      <td>0.2</td>\n",
              "      <td>0.0</td>\n",
              "      <td>setosa</td>\n",
              "    </tr>\n",
              "    <tr>\n",
              "      <th>1</th>\n",
              "      <td>4.9</td>\n",
              "      <td>3.0</td>\n",
              "      <td>1.4</td>\n",
              "      <td>0.2</td>\n",
              "      <td>0.0</td>\n",
              "      <td>setosa</td>\n",
              "    </tr>\n",
              "    <tr>\n",
              "      <th>2</th>\n",
              "      <td>4.7</td>\n",
              "      <td>3.2</td>\n",
              "      <td>1.3</td>\n",
              "      <td>0.2</td>\n",
              "      <td>0.0</td>\n",
              "      <td>setosa</td>\n",
              "    </tr>\n",
              "    <tr>\n",
              "      <th>3</th>\n",
              "      <td>4.6</td>\n",
              "      <td>3.1</td>\n",
              "      <td>1.5</td>\n",
              "      <td>0.2</td>\n",
              "      <td>0.0</td>\n",
              "      <td>setosa</td>\n",
              "    </tr>\n",
              "    <tr>\n",
              "      <th>4</th>\n",
              "      <td>5.0</td>\n",
              "      <td>3.6</td>\n",
              "      <td>1.4</td>\n",
              "      <td>0.2</td>\n",
              "      <td>0.0</td>\n",
              "      <td>setosa</td>\n",
              "    </tr>\n",
              "  </tbody>\n",
              "</table>\n",
              "</div>"
            ],
            "text/plain": [
              "   sepal length (cm)  sepal width (cm)  ...  target  species\n",
              "0                5.1               3.5  ...     0.0   setosa\n",
              "1                4.9               3.0  ...     0.0   setosa\n",
              "2                4.7               3.2  ...     0.0   setosa\n",
              "3                4.6               3.1  ...     0.0   setosa\n",
              "4                5.0               3.6  ...     0.0   setosa\n",
              "\n",
              "[5 rows x 6 columns]"
            ]
          },
          "metadata": {},
          "execution_count": 7
        }
      ]
    },
    {
      "cell_type": "code",
      "metadata": {
        "colab": {
          "base_uri": "https://localhost:8080/",
          "height": 920
        },
        "id": "A12q7ycCy5v9",
        "outputId": "8c927fc6-49eb-48c4-ec06-3ada7a5c1908"
      },
      "source": [
        "#Visualize  the data using seaborn pairplot\n",
        "\n",
        "import seaborn as sns\n",
        "import matplotlib.pyplot as plt\n",
        "sns.pairplot(data1)"
      ],
      "execution_count": 8,
      "outputs": [
        {
          "output_type": "execute_result",
          "data": {
            "text/plain": [
              "<seaborn.axisgrid.PairGrid at 0x7fa451e78410>"
            ]
          },
          "metadata": {},
          "execution_count": 8
        },
        {
          "output_type": "display_data",
          "data": {
            "image/png": "[encoded data removed]",
            "text/plain": [
              "<Figure size 900x900 with 30 Axes>"
            ]
          },
          "metadata": {
            "needs_background": "light"
          }
        }
      ]
    },
    {
      "cell_type": "code",
      "metadata": {
        "colab": {
          "base_uri": "https://localhost:8080/"
        },
        "id": "cxxsJjf65p6U",
        "outputId": "9fdeb81c-6fbf-43f5-a2d3-93d7078a9079"
      },
      "source": [
        "# Convert char labels into numerical \n",
        "#import LabelEncoder which returns array of encoded labels\n",
        "\n",
        "from sklearn.preprocessing import LabelEncoder\n",
        "labelencoder=LabelEncoder()\n",
        "\n",
        "# Create new array of numerical labels\n",
        "\n",
        "arr=np.array(labelencoder.fit_transform(data1['species']))\n",
        "print(arr)"
      ],
      "execution_count": 9,
      "outputs": [
        {
          "output_type": "stream",
          "name": "stdout",
          "text": [
            "[0 0 0 0 0 0 0 0 0 0 0 0 0 0 0 0 0 0 0 0 0 0 0 0 0 0 0 0 0 0 0 0 0 0 0 0 0\n",
            " 0 0 0 0 0 0 0 0 0 0 0 0 0 1 1 1 1 1 1 1 1 1 1 1 1 1 1 1 1 1 1 1 1 1 1 1 1\n",
            " 1 1 1 1 1 1 1 1 1 1 1 1 1 1 1 1 1 1 1 1 1 1 1 1 1 1 2 2 2 2 2 2 2 2 2 2 2\n",
            " 2 2 2 2 2 2 2 2 2 2 2 2 2 2 2 2 2 2 2 2 2 2 2 2 2 2 2 2 2 2 2 2 2 2 2 2 2\n",
            " 2 2]\n"
          ]
        }
      ]
    },
    {
      "cell_type": "code",
      "metadata": {
        "colab": {
          "base_uri": "https://localhost:8080/",
          "height": 417
        },
        "id": "BzctMiRt5xur",
        "outputId": "f4a8b8cf-180f-4573-a873-841df4c0698e"
      },
      "source": [
        "# Drop old labels(char) data \n",
        "data1['species']=\"\"\n",
        "\n",
        "# Substitute new labels(numerical) into data\n",
        "data1['species']= arr\n",
        "data1"
      ],
      "execution_count": 10,
      "outputs": [
        {
          "output_type": "execute_result",
          "data": {
            "text/html": [
              "<div>\n",
              "<style scoped>\n",
              "    .dataframe tbody tr th:only-of-type {\n",
              "        vertical-align: middle;\n",
              "    }\n",
              "\n",
              "    .dataframe tbody tr th {\n",
              "        vertical-align: top;\n",
              "    }\n",
              "\n",
              "    .dataframe thead th {\n",
              "        text-align: right;\n",
              "    }\n",
              "</style>\n",
              "<table border=\"1\" class=\"dataframe\">\n",
              "  <thead>\n",
              "    <tr style=\"text-align: right;\">\n",
              "      <th></th>\n",
              "      <th>sepal length (cm)</th>\n",
              "      <th>sepal width (cm)</th>\n",
              "      <th>petal length (cm)</th>\n",
              "      <th>petal width (cm)</th>\n",
              "      <th>target</th>\n",
              "      <th>species</th>\n",
              "    </tr>\n",
              "  </thead>\n",
              "  <tbody>\n",
              "    <tr>\n",
              "      <th>0</th>\n",
              "      <td>5.1</td>\n",
              "      <td>3.5</td>\n",
              "      <td>1.4</td>\n",
              "      <td>0.2</td>\n",
              "      <td>0.0</td>\n",
              "      <td>0</td>\n",
              "    </tr>\n",
              "    <tr>\n",
              "      <th>1</th>\n",
              "      <td>4.9</td>\n",
              "      <td>3.0</td>\n",
              "      <td>1.4</td>\n",
              "      <td>0.2</td>\n",
              "      <td>0.0</td>\n",
              "      <td>0</td>\n",
              "    </tr>\n",
              "    <tr>\n",
              "      <th>2</th>\n",
              "      <td>4.7</td>\n",
              "      <td>3.2</td>\n",
              "      <td>1.3</td>\n",
              "      <td>0.2</td>\n",
              "      <td>0.0</td>\n",
              "      <td>0</td>\n",
              "    </tr>\n",
              "    <tr>\n",
              "      <th>3</th>\n",
              "      <td>4.6</td>\n",
              "      <td>3.1</td>\n",
              "      <td>1.5</td>\n",
              "      <td>0.2</td>\n",
              "      <td>0.0</td>\n",
              "      <td>0</td>\n",
              "    </tr>\n",
              "    <tr>\n",
              "      <th>4</th>\n",
              "      <td>5.0</td>\n",
              "      <td>3.6</td>\n",
              "      <td>1.4</td>\n",
              "      <td>0.2</td>\n",
              "      <td>0.0</td>\n",
              "      <td>0</td>\n",
              "    </tr>\n",
              "    <tr>\n",
              "      <th>...</th>\n",
              "      <td>...</td>\n",
              "      <td>...</td>\n",
              "      <td>...</td>\n",
              "      <td>...</td>\n",
              "      <td>...</td>\n",
              "      <td>...</td>\n",
              "    </tr>\n",
              "    <tr>\n",
              "      <th>145</th>\n",
              "      <td>6.7</td>\n",
              "      <td>3.0</td>\n",
              "      <td>5.2</td>\n",
              "      <td>2.3</td>\n",
              "      <td>2.0</td>\n",
              "      <td>2</td>\n",
              "    </tr>\n",
              "    <tr>\n",
              "      <th>146</th>\n",
              "      <td>6.3</td>\n",
              "      <td>2.5</td>\n",
              "      <td>5.0</td>\n",
              "      <td>1.9</td>\n",
              "      <td>2.0</td>\n",
              "      <td>2</td>\n",
              "    </tr>\n",
              "    <tr>\n",
              "      <th>147</th>\n",
              "      <td>6.5</td>\n",
              "      <td>3.0</td>\n",
              "      <td>5.2</td>\n",
              "      <td>2.0</td>\n",
              "      <td>2.0</td>\n",
              "      <td>2</td>\n",
              "    </tr>\n",
              "    <tr>\n",
              "      <th>148</th>\n",
              "      <td>6.2</td>\n",
              "      <td>3.4</td>\n",
              "      <td>5.4</td>\n",
              "      <td>2.3</td>\n",
              "      <td>2.0</td>\n",
              "      <td>2</td>\n",
              "    </tr>\n",
              "    <tr>\n",
              "      <th>149</th>\n",
              "      <td>5.9</td>\n",
              "      <td>3.0</td>\n",
              "      <td>5.1</td>\n",
              "      <td>1.8</td>\n",
              "      <td>2.0</td>\n",
              "      <td>2</td>\n",
              "    </tr>\n",
              "  </tbody>\n",
              "</table>\n",
              "<p>150 rows × 6 columns</p>\n",
              "</div>"
            ],
            "text/plain": [
              "     sepal length (cm)  sepal width (cm)  ...  target  species\n",
              "0                  5.1               3.5  ...     0.0        0\n",
              "1                  4.9               3.0  ...     0.0        0\n",
              "2                  4.7               3.2  ...     0.0        0\n",
              "3                  4.6               3.1  ...     0.0        0\n",
              "4                  5.0               3.6  ...     0.0        0\n",
              "..                 ...               ...  ...     ...      ...\n",
              "145                6.7               3.0  ...     2.0        2\n",
              "146                6.3               2.5  ...     2.0        2\n",
              "147                6.5               3.0  ...     2.0        2\n",
              "148                6.2               3.4  ...     2.0        2\n",
              "149                5.9               3.0  ...     2.0        2\n",
              "\n",
              "[150 rows x 6 columns]"
            ]
          },
          "metadata": {},
          "execution_count": 10
        }
      ]
    },
    {
      "cell_type": "code",
      "metadata": {
        "colab": {
          "base_uri": "https://localhost:8080/",
          "height": 295
        },
        "id": "5EVpJnTw-xYf",
        "outputId": "3c2ec8a5-a17e-4458-a6dd-ff6eea9d23b4"
      },
      "source": [
        "# Logistic regression only takes the data which has labels 0 and 1, so consider only data['labels']<2\n",
        "# Considering Iris-setosa as \"0\" and Iris-versicolor as \"1\"\n",
        "\n",
        "data1_new=data1[data1['species']<2]\n",
        "data1_new.describe()"
      ],
      "execution_count": 11,
      "outputs": [
        {
          "output_type": "execute_result",
          "data": {
            "text/html": [
              "<div>\n",
              "<style scoped>\n",
              "    .dataframe tbody tr th:only-of-type {\n",
              "        vertical-align: middle;\n",
              "    }\n",
              "\n",
              "    .dataframe tbody tr th {\n",
              "        vertical-align: top;\n",
              "    }\n",
              "\n",
              "    .dataframe thead th {\n",
              "        text-align: right;\n",
              "    }\n",
              "</style>\n",
              "<table border=\"1\" class=\"dataframe\">\n",
              "  <thead>\n",
              "    <tr style=\"text-align: right;\">\n",
              "      <th></th>\n",
              "      <th>sepal length (cm)</th>\n",
              "      <th>sepal width (cm)</th>\n",
              "      <th>petal length (cm)</th>\n",
              "      <th>petal width (cm)</th>\n",
              "      <th>target</th>\n",
              "      <th>species</th>\n",
              "    </tr>\n",
              "  </thead>\n",
              "  <tbody>\n",
              "    <tr>\n",
              "      <th>count</th>\n",
              "      <td>100.000000</td>\n",
              "      <td>100.000000</td>\n",
              "      <td>100.000000</td>\n",
              "      <td>100.000000</td>\n",
              "      <td>100.000000</td>\n",
              "      <td>100.000000</td>\n",
              "    </tr>\n",
              "    <tr>\n",
              "      <th>mean</th>\n",
              "      <td>5.471000</td>\n",
              "      <td>3.099000</td>\n",
              "      <td>2.861000</td>\n",
              "      <td>0.786000</td>\n",
              "      <td>0.500000</td>\n",
              "      <td>0.500000</td>\n",
              "    </tr>\n",
              "    <tr>\n",
              "      <th>std</th>\n",
              "      <td>0.641698</td>\n",
              "      <td>0.478739</td>\n",
              "      <td>1.449549</td>\n",
              "      <td>0.565153</td>\n",
              "      <td>0.502519</td>\n",
              "      <td>0.502519</td>\n",
              "    </tr>\n",
              "    <tr>\n",
              "      <th>min</th>\n",
              "      <td>4.300000</td>\n",
              "      <td>2.000000</td>\n",
              "      <td>1.000000</td>\n",
              "      <td>0.100000</td>\n",
              "      <td>0.000000</td>\n",
              "      <td>0.000000</td>\n",
              "    </tr>\n",
              "    <tr>\n",
              "      <th>25%</th>\n",
              "      <td>5.000000</td>\n",
              "      <td>2.800000</td>\n",
              "      <td>1.500000</td>\n",
              "      <td>0.200000</td>\n",
              "      <td>0.000000</td>\n",
              "      <td>0.000000</td>\n",
              "    </tr>\n",
              "    <tr>\n",
              "      <th>50%</th>\n",
              "      <td>5.400000</td>\n",
              "      <td>3.050000</td>\n",
              "      <td>2.450000</td>\n",
              "      <td>0.800000</td>\n",
              "      <td>0.500000</td>\n",
              "      <td>0.500000</td>\n",
              "    </tr>\n",
              "    <tr>\n",
              "      <th>75%</th>\n",
              "      <td>5.900000</td>\n",
              "      <td>3.400000</td>\n",
              "      <td>4.325000</td>\n",
              "      <td>1.300000</td>\n",
              "      <td>1.000000</td>\n",
              "      <td>1.000000</td>\n",
              "    </tr>\n",
              "    <tr>\n",
              "      <th>max</th>\n",
              "      <td>7.000000</td>\n",
              "      <td>4.400000</td>\n",
              "      <td>5.100000</td>\n",
              "      <td>1.800000</td>\n",
              "      <td>1.000000</td>\n",
              "      <td>1.000000</td>\n",
              "    </tr>\n",
              "  </tbody>\n",
              "</table>\n",
              "</div>"
            ],
            "text/plain": [
              "       sepal length (cm)  sepal width (cm)  ...      target     species\n",
              "count         100.000000        100.000000  ...  100.000000  100.000000\n",
              "mean            5.471000          3.099000  ...    0.500000    0.500000\n",
              "std             0.641698          0.478739  ...    0.502519    0.502519\n",
              "min             4.300000          2.000000  ...    0.000000    0.000000\n",
              "25%             5.000000          2.800000  ...    0.000000    0.000000\n",
              "50%             5.400000          3.050000  ...    0.500000    0.500000\n",
              "75%             5.900000          3.400000  ...    1.000000    1.000000\n",
              "max             7.000000          4.400000  ...    1.000000    1.000000\n",
              "\n",
              "[8 rows x 6 columns]"
            ]
          },
          "metadata": {},
          "execution_count": 11
        }
      ]
    },
    {
      "cell_type": "code",
      "metadata": {
        "colab": {
          "base_uri": "https://localhost:8080/"
        },
        "id": "Ay065RGxOFPU",
        "outputId": "f070c035-5853-4aad-e674-fd85f4d233ea"
      },
      "source": [
        "#Find the difference between means of sepal length of speices \"Setosa\"(label 0) and \"Versicolor\"(label 1)\n",
        "\n",
        "means = data1.groupby('species').mean()\n",
        "print(means)\n",
        "ans[1]=means['sepal length (cm)'][0]-means['sepal length (cm)'][1]\n",
        "ans[1]\n"
      ],
      "execution_count": 12,
      "outputs": [
        {
          "output_type": "stream",
          "name": "stdout",
          "text": [
            "         sepal length (cm)  sepal width (cm)  ...  petal width (cm)  target\n",
            "species                                       ...                          \n",
            "0                    5.006             3.428  ...             0.246     0.0\n",
            "1                    5.936             2.770  ...             1.326     1.0\n",
            "2                    6.588             2.974  ...             2.026     2.0\n",
            "\n",
            "[3 rows x 5 columns]\n"
          ]
        },
        {
          "output_type": "execute_result",
          "data": {
            "text/plain": [
              "-0.9300000000000006"
            ]
          },
          "metadata": {},
          "execution_count": 12
        }
      ]
    },
    {
      "cell_type": "markdown",
      "metadata": {
        "id": "3-b3xRiIDkr1"
      },
      "source": [
        "# ***`Obtaining Weight Values`***"
      ]
    },
    {
      "cell_type": "code",
      "metadata": {
        "colab": {
          "base_uri": "https://localhost:8080/"
        },
        "id": "pRo8pY80_w5L",
        "outputId": "d68a694b-dbbf-4acd-e4bd-0780b6266ef3"
      },
      "source": [
        "# Split the data into X and y\n",
        "\n",
        "data1_new = data1_new.drop(['species'], axis = 1)\n",
        "X = data1_new.drop('target', axis = 1)\n",
        "y = data1_new['target']\n",
        "print(X)\n",
        "print(y)"
      ],
      "execution_count": 13,
      "outputs": [
        {
          "output_type": "stream",
          "name": "stdout",
          "text": [
            "    sepal length (cm)  sepal width (cm)  petal length (cm)  petal width (cm)\n",
            "0                 5.1               3.5                1.4               0.2\n",
            "1                 4.9               3.0                1.4               0.2\n",
            "2                 4.7               3.2                1.3               0.2\n",
            "3                 4.6               3.1                1.5               0.2\n",
            "4                 5.0               3.6                1.4               0.2\n",
            "..                ...               ...                ...               ...\n",
            "95                5.7               3.0                4.2               1.2\n",
            "96                5.7               2.9                4.2               1.3\n",
            "97                6.2               2.9                4.3               1.3\n",
            "98                5.1               2.5                3.0               1.1\n",
            "99                5.7               2.8                4.1               1.3\n",
            "\n",
            "[100 rows x 4 columns]\n",
            "0     0.0\n",
            "1     0.0\n",
            "2     0.0\n",
            "3     0.0\n",
            "4     0.0\n",
            "     ... \n",
            "95    1.0\n",
            "96    1.0\n",
            "97    1.0\n",
            "98    1.0\n",
            "99    1.0\n",
            "Name: target, Length: 100, dtype: float64\n"
          ]
        }
      ]
    },
    {
      "cell_type": "code",
      "metadata": {
        "colab": {
          "base_uri": "https://localhost:8080/",
          "height": 1000
        },
        "id": "kEi8Pqsr_9yo",
        "outputId": "a43282ab-0cc8-4ee2-e7dc-229b1602109a"
      },
      "source": [
        "# Visualize X,y\n",
        "plt.figure(figsize = (20, 10))\n",
        "plt.scatter(X['sepal length (cm)'], y, color = '#ff3300')\n",
        "plt.title(\"sepal length (cm)\")\n",
        "plt.show()\n",
        "plt.scatter(X['sepal width (cm)'], y, color = '#ff00ff')\n",
        "plt.title(\"sepal width (cm)\")\n",
        "plt.show()\n",
        "plt.scatter(X['petal length (cm)'], y, color = '#00ffff')\n",
        "plt.title(\"petal length (cm)\")\n",
        "plt.show()\n",
        "plt.scatter(X['petal width (cm)'], y, color = '#66ff66')\n",
        "plt.title(\"petal width (cm)\")\n",
        "plt.show()\n",
        "#plt.legend()\n",
        "#plt.plot()"
      ],
      "execution_count": 14,
      "outputs": [
        {
          "output_type": "display_data",
          "data": {
            "image/png": "[encoded data removed]",
            "text/plain": [
              "<Figure size 1440x720 with 1 Axes>"
            ]
          },
          "metadata": {
            "needs_background": "light"
          }
        },
        {
          "output_type": "display_data",
          "data": {
            "image/png": "[encoded data removed]",
            "text/plain": [
              "<Figure size 432x288 with 1 Axes>"
            ]
          },
          "metadata": {
            "needs_background": "light"
          }
        },
        {
          "output_type": "display_data",
          "data": {
            "image/png": "[encoded data removed]",
            "text/plain": [
              "<Figure size 432x288 with 1 Axes>"
            ]
          },
          "metadata": {
            "needs_background": "light"
          }
        },
        {
          "output_type": "display_data",
          "data": {
            "image/png": "[encoded data removed]",
            "text/plain": [
              "<Figure size 432x288 with 1 Axes>"
            ]
          },
          "metadata": {
            "needs_background": "light"
          }
        }
      ]
    },
    {
      "cell_type": "code",
      "metadata": {
        "id": "8E3fZvS0AC1l"
      },
      "source": [
        "# Convert X,y into arrays\n",
        "X=np.array(X)\n",
        "y=np.array(y)"
      ],
      "execution_count": 15,
      "outputs": []
    },
    {
      "cell_type": "code",
      "metadata": {
        "id": "LtyRrzy7ALXe"
      },
      "source": [
        "#Using sklearn to split the data\n",
        "from sklearn.model_selection import train_test_split\n",
        "#Take the test size as 0.2 and random_state as 42\n",
        "X_train, X_test, y_train, y_test = train_test_split(X, y, test_size=0.2, random_state=42)"
      ],
      "execution_count": 16,
      "outputs": []
    },
    {
      "cell_type": "code",
      "metadata": {
        "id": "7ixwU-Il2xnY"
      },
      "source": [
        "#Importing Necessary Libraries for Logistic Regression \n",
        "from sklearn.linear_model import LogisticRegression\n",
        "\n",
        "#Building our model\n",
        "model = LogisticRegression().fit(X_train,y_train)\n",
        "\n",
        "#Finding the parameter and bias\n",
        "w = model.coef_\n",
        "b = float(model.intercept_)\n",
        "w = w[0]"
      ],
      "execution_count": 17,
      "outputs": []
    },
    {
      "cell_type": "code",
      "metadata": {
        "colab": {
          "base_uri": "https://localhost:8080/"
        },
        "id": "zTwvokIegTet",
        "outputId": "0e2487ae-da9a-4bdb-9b00-44d10f73a0cc"
      },
      "source": [
        "#Printing the parameters and bias\n",
        "print(w)\n",
        "print(b)"
      ],
      "execution_count": 18,
      "outputs": [
        {
          "output_type": "stream",
          "name": "stdout",
          "text": [
            "[ 0.45808171 -0.83895654  2.21684247  0.92362595]\n",
            "-6.5266650038990734\n"
          ]
        }
      ]
    },
    {
      "cell_type": "code",
      "metadata": {
        "colab": {
          "base_uri": "https://localhost:8080/"
        },
        "id": "L80X7QCKGd1W",
        "outputId": "381de397-9558-40ed-f07e-6fe3068cfa66"
      },
      "source": [
        "#Save parameters and bias [w1,w2,w3,w4,b] as one vector \n",
        "#i.e if the answer should be in a 1 dimensional list\n",
        "ans[2] = w.tolist() + [b]\n",
        "print(ans[2])"
      ],
      "execution_count": 19,
      "outputs": [
        {
          "output_type": "stream",
          "name": "stdout",
          "text": [
            "[0.45808171067944053, -0.8389565384015345, 2.2168424707599437, 0.9236259535228264, -6.5266650038990734]\n"
          ]
        }
      ]
    },
    {
      "cell_type": "code",
      "metadata": {
        "id": "WT2GgltTHHr8"
      },
      "source": [
        "#Predicitng on our test data\n",
        "y_pred = model.predict(X_test)"
      ],
      "execution_count": 20,
      "outputs": []
    },
    {
      "cell_type": "code",
      "metadata": {
        "colab": {
          "base_uri": "https://localhost:8080/"
        },
        "id": "2jvas_HlXULz",
        "outputId": "9ad0de41-ce18-419c-b93a-6ec95d00d74d"
      },
      "source": [
        "#Finding the accuracy\n",
        "from sklearn.metrics import accuracy_score\n",
        "ans[3]=accuracy_score(y_test,y_pred)\n",
        "print(ans[3])"
      ],
      "execution_count": 21,
      "outputs": [
        {
          "output_type": "stream",
          "name": "stdout",
          "text": [
            "1.0\n"
          ]
        }
      ]
    },
    {
      "cell_type": "code",
      "metadata": {
        "id": "hUSE7DJyVpTE"
      },
      "source": [
        "#Predict for the input [4.9,4,1.2,0.4] , save the answer ans[4] \"Setosa\" or \"Versicolor\"\n",
        "#print(model.predict([[4.9,4,1.2,0.4]]))\n",
        "y1_pred = model.predict([[4.9,4,1.2,0.4]])\n",
        "s = \"\"\n",
        "if y1_pred == 0:\n",
        "  s = \"Setosa\"\n",
        "else:\n",
        "  s = \"Versicolor\"  "
      ],
      "execution_count": 22,
      "outputs": []
    },
    {
      "cell_type": "code",
      "metadata": {
        "colab": {
          "base_uri": "https://localhost:8080/"
        },
        "id": "wl7bv6bq2MwR",
        "outputId": "27b1006b-cb5b-41fc-de82-127103c88c22"
      },
      "source": [
        "#The class of the input\n",
        "ans[4] = s\n",
        "print(ans[4])"
      ],
      "execution_count": 23,
      "outputs": [
        {
          "output_type": "stream",
          "name": "stdout",
          "text": [
            "Setosa\n"
          ]
        }
      ]
    },
    {
      "cell_type": "code",
      "metadata": {
        "id": "RGFVzwm_s1rq"
      },
      "source": [
        "import json\n",
        "ans = [str(item) for item in ans]\n",
        "\n",
        "filename = \"group62_luvkhoiwal10@gmail.com_Aman_Khoiwal_LogisticRegression\"\n",
        "\n",
        "# Eg if your name is Saurav Joshi and email id is sauravjoshi123@gmail.com, filename becomes\n",
        "# filename = sauravjoshi123@gmail.com_Saurav_Joshi_LogisticRegression"
      ],
      "execution_count": 24,
      "outputs": []
    },
    {
      "cell_type": "markdown",
      "metadata": {
        "id": "O7NVtK_1s1rr"
      },
      "source": [
        "## Do not change anything below!!\n",
        "- Make sure you have changed the above variable \"filename\" with the correct value. Do not change anything below!!"
      ]
    },
    {
      "cell_type": "code",
      "metadata": {
        "colab": {
          "base_uri": "https://localhost:8080/"
        },
        "id": "L1b4c3rkFj_w",
        "outputId": "401895b0-67f9-4cb8-9454-918bf3a95ba6"
      },
      "source": [
        "from importlib import import_module\n",
        "import os\n",
        "from pprint import pprint\n",
        "\n",
        "findScore = import_module('findScore')\n",
        "response = findScore.main(ans)\n",
        "response['details'] = filename\n",
        "with open(f'evaluation_{filename}.json', 'w') as outfile:\n",
        "    json.dump(response, outfile)\n",
        "pprint(response)"
      ],
      "execution_count": 25,
      "outputs": [
        {
          "output_type": "stream",
          "name": "stdout",
          "text": [
            "{'Comments': 'Please make sure the Python script you are submitting is not '\n",
            "             'having errors. Try running before submitting',\n",
            " 'Message': 'Successfully submitted! Thanks for taking the exercise',\n",
            " 'details': 'group62_luvkhoiwal10@gmail.com_Aman_Khoiwal_LogisticRegression',\n",
            " 'status': 'Success'}\n"
          ]
        }
      ]
    },
    {
      "cell_type": "code",
      "metadata": {
        "id": "FNfTxmdKrY8S"
      },
      "source": [
        ""
      ],
      "execution_count": null,
      "outputs": []
    }
  ]
}